{
  "nbformat": 4,
  "nbformat_minor": 0,
  "metadata": {
    "colab": {
      "provenance": [],
      "private_outputs": true,
      "machine_shape": "hm"
    },
    "kernelspec": {
      "name": "python3",
      "display_name": "Python 3"
    },
    "language_info": {
      "name": "python"
    }
  },
  "cells": [
    {
      "cell_type": "markdown",
      "source": [
        "<a href=\"https://colab.research.google.com/github/ccstan99/introML/blob/main/WTM23_introML.ipynb\" target=\"_parent\"><img src=\"https://colab.research.google.com/assets/colab-badge.svg\" alt=\"Open In Colab\"/></a>\n",
        "##### Copyright 2022 The TensorFlow Authors."
      ],
      "metadata": {
        "id": "3M2WtLk6XwtR"
      }
    },
    {
      "cell_type": "markdown",
      "source": [
        "This was adapted from [bit.ly/WiML22_introML](bit.ly/WiML22_introML)\n",
        "by [Michelle Carney🐍](https://twitter.com/michellercarney) and [Soo Sung🐼](https://www.linkedin.com/in/soo-sung-98180a15/)!"
      ],
      "metadata": {
        "id": "D62xY2GoiUfg"
      }
    },
    {
      "cell_type": "code",
      "source": [
        "#@title Licensed under the Apache License, Version 2.0 (the \"License\");\n",
        "# you may not use this file except in compliance with the License.\n",
        "# You may obtain a copy of the License at\n",
        "#\n",
        "# https://www.apache.org/licenses/LICENSE-2.0\n",
        "#\n",
        "# Unless required by applicable law or agreed to in writing, software\n",
        "# distributed under the License is distributed on an \"AS IS\" BASIS,\n",
        "# WITHOUT WARRANTIES OR CONDITIONS OF ANY KIND, either express or implied.\n",
        "# See the License for the specific language governing permissions and\n",
        "# limitations under the License."
      ],
      "metadata": {
        "id": "32O3JsNL7AxT",
        "cellView": "form"
      },
      "execution_count": null,
      "outputs": []
    },
    {
      "cell_type": "markdown",
      "source": [
        "## Welcome to Intro to ML for everyone! 🤖📊✨\n",
        "\n",
        "We're your hosts, [ChengCheng Tan](https://www.linkedin.com/in/cheng2-tan/) and [Philippa Burgess](https://www.linkedin.com/in/philippaburgess/)!\n",
        "\n",
        "Our goal is to share how easy it is to get started with ML. Thanks to awesome resources online and the amazing advancement in tools, anyone can get started with ML!"
      ],
      "metadata": {
        "id": "1Pm_5b6tCVEX"
      }
    },
    {
      "cell_type": "markdown",
      "source": [
        "<center><img src=\"https://github.com/ccstan99/introML/blob/main/images/welcome.png?raw=true\" width=\"100%\"/></center>"
      ],
      "metadata": {
        "id": "2HPmn6FOkjFR"
      }
    },
    {
      "cell_type": "markdown",
      "source": [
        "### Wait... what is this tool we're using?! in the browser?! to CODE?!\n",
        "\n",
        "For this workshop, we are using the coding language [python](https://www.python.org/), one of the most common ML coding laguagues.\n",
        "\n",
        "You are able to run the code for yourself since we're using [colab notebooks](https://research.google.com/colaboratory/faq.html) which are kinda like Google Docs of Python (based on the open source library of [jupyter](https://jupyter.org/) - formerly iPython notebooks (notice how this file type is ipynb? now you know!)).\n",
        "\n",
        "We won't go into the details, but essentially colab makes it really easy to run and share our code in our browsers without needing to code in terminal or using a text editor, which you might use when making a website or coding with html/css and javascript."
      ],
      "metadata": {
        "id": "NxnpjJZ0IOkL"
      }
    },
    {
      "cell_type": "markdown",
      "source": [
        "### Intro to Machine Learning - Agenda 🤖\n",
        "\n",
        "Here's what we will cover today:\n",
        "\n",
        "1.   What is ML? 🤔💭🤖\n",
        "2.   Data prep 🐧🐧🐧\n",
        "3.   Training your model 🏋🏻‍♀️💪\n",
        "4.   Model evaluation 📊🔍👀\n",
        "5.   Next steps... and more! 🏆✨\n",
        "\n",
        "In this notebook, we'll walk through a high level overview of how ML models *generally* work - esp. what are the different steps we take in order to build a model. This lays the foundation for talking about ML, key terms, and how to help you learn!\n",
        "\n",
        "Hopefully at the end, you are able to better understand how models are made, and the vocabulary used in ML and AI, and have a little more confidence to start your ML journey 🏆\n",
        "\n",
        "\n"
      ],
      "metadata": {
        "id": "mwrkzQZtQOgb"
      }
    },
    {
      "cell_type": "markdown",
      "source": [
        "### What is machine learning? 🤔💭 🤖\n",
        "\n"
      ],
      "metadata": {
        "id": "AecEG8IJHIYn"
      }
    },
    {
      "cell_type": "markdown",
      "source": [
        "\n",
        "Machine learning is the process of teaching a computer to learn patterns from data and then to apply those patterns to make preditions on new data. In traditional programming, you write rules to tell the computer exactly what to do. For example, if you want to write a program that converts temperature from Celsius to Fahrenheit, you would write a function that computes the following equation:\n",
        "\n",
        "<center>\n",
        "<img src=\"https://github.com/ccstan99/introML/blob/main/images/io_programming.png?raw=true\" width=\"40%\"/>\n",
        "<img src=\"https://github.com/ccstan99/introML/blob/main/images/io_ML.png?raw=true\" width=\"40%\"/>\n",
        "</center>\n",
        "\n",
        "But in ML, instead of writing the rule, you provide the computer a lot of examples of input data as well as the desired output, say pairs of celsius and fahrenheit data. Then let the computer learn the rule itself.\n",
        "\n",
        "This particular case is very simple but imagine if you had to write a program to recognize cat images or generate languages. You'd have to write many rules. You can see how the list of rules and their exceptions could grow very quickly.\n",
        "\n",
        "ML is ideal for these types of problems, where you have lots of data that have complex relationships that would be very difficult for humans to manually create rules for.\n",
        "\n",
        "* Image and video recognition\n",
        "* Language generation\n",
        "* Recommendations\n",
        "* etc\n",
        "\n",
        "If you're interested in a more in depth look at these concepts - check out the [Intro to ML](https://developers.google.com/machine-learning/intro-to-ml) course on the Google developer site!\n",
        "\n"
      ],
      "metadata": {
        "id": "gLQpzszUAir_"
      }
    },
    {
      "cell_type": "markdown",
      "source": [
        "### ML Model and Dataset 📊\n"
      ],
      "metadata": {
        "id": "9CWpytqfs0s5"
      }
    },
    {
      "cell_type": "markdown",
      "metadata": {
        "id": "kvvDY0LVhuaW"
      },
      "source": [
        "\n",
        "Now that you've seen the difference between ML and traditional programming, let's get started on programming, or training, our own model!\n",
        "\n",
        "For this workshop, we'll be using the [Palmer's Penguins](https://allisonhorst.github.io/palmerpenguins/articles/intro.html) dataset to train a decision forest model to predict the penguin species.\n",
        "\n",
        "<center><img src=\"https://allisonhorst.github.io/palmerpenguins/reference/figures/lter_penguins.png\" width=\"100%\"/></center>\n",
        "\n",
        "A decision tree is an algorithm that learns by splitting the data into smaller and smaller subsets. The splits are determined by how well each subset helps to predict the desired outcome. Here's a simple decision tree for predicting different types of penguins! Let's presume class 0 is Adelie, class 1 is Gento, and Type 2 is Chinstrap.\n",
        "\n",
        "<center><img src=\"https://github.com/ccstan99/introML/blob/main/images/decision_tree.png?raw=true\" width=\"50%\"/></center>\n",
        "\n",
        "Decision Forests (`DF`) are a large family of Machine Learning algorithms for\n",
        "supervised classification, regression and ranking. As the name suggests, DFs use\n",
        "decision trees as a building block.\n",
        "\n",
        "<center><img src=\"https://github.com/ccstan99/introML/blob/main/images/decision_forest.png?raw=true\" width=\"100%\"/></center>\n",
        "\n",
        "[TensorFlow Decision Forests (`TF-DF`)](https://www.tensorflow.org/decision_forests) is a library for the training Decision Forest models.\n"
      ]
    },
    {
      "cell_type": "markdown",
      "metadata": {
        "id": "jK9tCTcwqq4k"
      },
      "source": [
        "## STEP 1: Setup the environment 👩🏾‍💻✨"
      ]
    },
    {
      "cell_type": "markdown",
      "source": [
        "\n",
        "### Install TensorFlow Decision Forest library (TF-DF) 🌲🌲🌲📥\n",
        "\n",
        "Run the following cell to install the library."
      ],
      "metadata": {
        "id": "FseKEEsWQ-kz"
      }
    },
    {
      "cell_type": "code",
      "execution_count": null,
      "metadata": {
        "id": "Pa1Pf37RhEYN"
      },
      "outputs": [],
      "source": [
        "!pip install -q tensorflow_decision_forests"
      ]
    },
    {
      "cell_type": "markdown",
      "metadata": {
        "id": "3oinwbhXlggd"
      },
      "source": [
        "### Import libraries\n",
        "\n",
        "Some common libraries we'll be using today are [pandas](https://pandas.pydata.org/), [TensorFlow](https://tensorflow.org/) (sometimes abbreviated ```tf```), [numpy](https://numpy.org/), and there are many more!\n",
        "\n",
        "Let's load these libraries and load our data into a pandas [dataframe (`df`)](https://www.geeksforgeeks.org/python-pandas-dataframe/), which is a format our python can read instead of a csv, and we can then train a model on this df."
      ]
    },
    {
      "cell_type": "code",
      "execution_count": null,
      "metadata": {
        "id": "52W45tmDjD64"
      },
      "outputs": [],
      "source": [
        "import tensorflow_decision_forests as tfdf\n",
        "\n",
        "import os\n",
        "import numpy as np\n",
        "import pandas as pd\n",
        "import tensorflow as tf\n",
        "import math"
      ]
    },
    {
      "cell_type": "markdown",
      "metadata": {
        "id": "QGRtRECujKeu"
      },
      "source": [
        "\n",
        "## STEP 2: Get Data 🐧🐧🐧📊"
      ]
    },
    {
      "cell_type": "markdown",
      "source": [
        "First things first - **all ML models need DATA!**\n",
        "\n",
        "It might seem counter intuitive, but the most amount of time most data scientists spend in making ML models is actually in understanding the data and \"cleaning\" it to make it machine-readable. When training ML models, it's very common to spend ~80% of the time in the Data Preparation phase!\n",
        "\n",
        "It's important to understand your data because this is the only source your Machine Learning model will learn patterns and trends from - so if it has some weird pattern (half of the values are missing, or in different formats, etc) it will learn those weird patterns.\n",
        "\n",
        "While in the \"Data\" Phase, some design questions you might want to consider are:\n",
        "1. **Where does your data come from? Who collected it? Why did they collect it?**\n",
        "\n",
        "You can imagine that a zoologist or a penguin enthusiast might both have a database of penguin attributes and species, but they probably use them in different ways. Maybe the zoologist made the database to keep track of the penguin conditions in the zoo, while an enthusiast might be interested in features that identify different types of penguins.\n",
        "\n",
        "2. **What is the type() of each of the columns (aka \"features\")? Are they all numbers (integers or \"int\", \"float\")? words (\"strings\")?**\n",
        "\n",
        "This matters to ML models - we need to ensure that the computer is able to read each of the columns in the way that we're perceiving them (like, if it is a number '5' it should be read as an int, not a string)\n",
        "\n",
        "3. **What questions can this data answer?**\n",
        "\n",
        "This is important because we can't train a model on this data and ask questions about things not seen in the data! for instance, if we have a dataset that describes penguins we can't ask questions about hippos - the model only knows about penguins!"
      ],
      "metadata": {
        "id": "4Ckno8aXgSqt"
      }
    },
    {
      "cell_type": "markdown",
      "metadata": {
        "id": "3qsSU1RfmNiP"
      },
      "source": [
        "### Load the dataset ...and convert it in a tf.Dataset!"
      ]
    },
    {
      "cell_type": "markdown",
      "metadata": {
        "id": "9nJ5igfElg2I"
      },
      "source": [
        "This dataset is very small (300 examples) and stored as a .csv-like file. Therefore, use Pandas to load it.\n",
        "\n",
        "**Note:** Pandas is practical as you don't have to type in name of the input features to load them. For larger datasets (>1M examples), using the\n",
        "[TensorFlow Dataset](https://www.tensorflow.org/api_docs/python/tf/data/Dataset) to read the files may be better suited.\n",
        "\n",
        "Let's assemble the dataset into a csv file (i.e. add the header), and load it:"
      ]
    },
    {
      "cell_type": "code",
      "execution_count": null,
      "metadata": {
        "id": "44Jq6g_mJFmj"
      },
      "outputs": [],
      "source": [
        "# Download the dataset\n",
        "!wget -q https://storage.googleapis.com/download.tensorflow.org/data/palmer_penguins/penguins.csv -O /tmp/penguins.csv\n",
        "\n",
        "# Load a dataset into a Pandas Dataframe.\n",
        "df = pd.read_csv(\"/tmp/penguins.csv\")\n",
        "\n",
        "# Display the first 5 examples.\n",
        "df.head()"
      ]
    },
    {
      "cell_type": "code",
      "source": [
        "#this returns the entireeeeee dataframe!\n",
        "df"
      ],
      "metadata": {
        "id": "HsJNMdquv8Sa"
      },
      "execution_count": null,
      "outputs": []
    },
    {
      "cell_type": "markdown",
      "source": [
        "From this initial look, it doesn't seem like year is going to be that predictive of the species."
      ],
      "metadata": {
        "id": "yG532za9aDJt"
      }
    },
    {
      "cell_type": "markdown",
      "source": [
        "### Explore your data 🧭✨🕵🏻‍♀️"
      ],
      "metadata": {
        "id": "9bAVt6duuxie"
      }
    },
    {
      "cell_type": "markdown",
      "metadata": {
        "id": "ImJ10_BfEVDb"
      },
      "source": [
        "Exploring your data, or Exploratory Data Analysis (`EDA`), is an important part of the ML process!\n",
        "\n",
        "When we show the entire dataframe, **it's too many animals to view all at once, and it's only 344!** (remember, python starts counting at 0, and our first anmial is numbered 0)  Just imagine if we had a dataset of 1000 animals, or 5 million! - there's no way we could look at EVERY row!\n",
        "\n",
        "One thing data scientists do is explore the data in the form of **summary statistics**, which we can use directly on the pandas dataframe.\n",
        "\n",
        "Below is some sample code to help you explore your data, using the function [groupby()](https://pandas.pydata.org/pandas-docs/stable/reference/api/pandas.DataFrame.groupby.html). You can groupby() on the entire dataframe by a certain feature, like by each Species, and do calculations per species"
      ]
    },
    {
      "cell_type": "code",
      "execution_count": null,
      "metadata": {
        "id": "mOPD9sjqEmv9"
      },
      "outputs": [],
      "source": [
        "#Let's group the dataframe by the column \"species\" of penguins!\n",
        "# with the COUNT of how many unique values there are in each column\n",
        "#(i.e., 'Adelie Penguins...with a bill length recorded,' or 'Chinstrap penguins... with a body mass recorded')\n",
        "#(hint: they should all be the same unless we have null! Can you spot where they AREN'T the same?)\n",
        "df.groupby(['species']).count()"
      ]
    },
    {
      "cell_type": "code",
      "execution_count": null,
      "metadata": {
        "id": "ssK9hW8-Jvsn"
      },
      "outputs": [],
      "source": [
        "#here's another way to do groupby the mean number - but some of our columns are missing!\n",
        "# we are missing columns like \"island\" because they are not numeric - they are strings (aka words)\n",
        "df.groupby(['species']).mean()"
      ]
    },
    {
      "cell_type": "code",
      "execution_count": null,
      "metadata": {
        "id": "_ET2hQQi-Udz"
      },
      "outputs": [],
      "source": [
        "#Sometimes it's hard to just read a table, let's look at a graph of the average values...\n",
        "df.groupby('species').mean().plot(kind='bar')"
      ]
    },
    {
      "cell_type": "code",
      "execution_count": null,
      "metadata": {
        "id": "IGTorGX5HIOn"
      },
      "outputs": [],
      "source": [
        "# let's look at the FIRST row (row 0) of the data frame - what is in that row?\n",
        "df.iloc[0]\n",
        "#this output reads:\n",
        "#Colname        Value"
      ]
    },
    {
      "cell_type": "code",
      "execution_count": null,
      "metadata": {
        "id": "PcoG8EN4FD35"
      },
      "outputs": [],
      "source": [
        "#Let's look at all of the different variables\n",
        "#this will let us know if there are any NaN (null/missing) values!\n",
        "df.info()"
      ]
    },
    {
      "cell_type": "markdown",
      "source": [
        "### Data cleaning 🧹✨"
      ],
      "metadata": {
        "id": "dT8pIjsKvdC1"
      }
    },
    {
      "cell_type": "markdown",
      "metadata": {
        "id": "23AewWT1lkIK"
      },
      "source": [
        "The dataset contains a mix of numerical (e.g. `bill_depth_mm`), categorical\n",
        "(e.g. `island`) and missing features. TF-DF supports all these feature types natively (differently than NN based models), therefore there is no need for preprocessing in the form of one-hot encoding, normalization or extra `is_present` feature.\n",
        "\n"
      ]
    },
    {
      "cell_type": "code",
      "source": [
        "df_clean = df.dropna()"
      ],
      "metadata": {
        "id": "M3pc7RRGEr7A"
      },
      "execution_count": null,
      "outputs": []
    },
    {
      "cell_type": "code",
      "source": [
        "df_clean = df_clean.drop(columns=['year'])"
      ],
      "metadata": {
        "id": "6u_2FlFmE3Sm"
      },
      "execution_count": null,
      "outputs": []
    },
    {
      "cell_type": "code",
      "source": [
        "df_clean.head()"
      ],
      "metadata": {
        "id": "pNWbJYSyFN0H"
      },
      "execution_count": null,
      "outputs": []
    },
    {
      "cell_type": "code",
      "source": [
        "df_clean.info()"
      ],
      "metadata": {
        "id": "DVN1IzfNCoDX"
      },
      "execution_count": null,
      "outputs": []
    },
    {
      "cell_type": "code",
      "source": [
        "# since we only lost 11 \"null\" rows, let's make our df_clean be our main df!\n",
        "df = df_clean"
      ],
      "metadata": {
        "id": "yZSR5eGrCkgT"
      },
      "execution_count": null,
      "outputs": []
    },
    {
      "cell_type": "markdown",
      "source": [
        "**Labels are a bit different:** Keras metrics expect integers. The label (`species`) is stored as a string, so let's convert it into an integer to make it machine readable. This will allow us to use `TFDF` to predict what species it is!"
      ],
      "metadata": {
        "id": "gOq0ktB2B4pi"
      }
    },
    {
      "cell_type": "code",
      "execution_count": null,
      "metadata": {
        "id": "uO_jz2sj0IBZ"
      },
      "outputs": [],
      "source": [
        "# Encode the categorical labels as integers.\n",
        "\n",
        "# Details:\n",
        "# This stage is necessary if your classification label is represented as a\n",
        "# string since Keras expects integer classification labels.\n",
        "# When using `pd_dataframe_to_tf_dataset` (see below), this step can be skipped.\n",
        "\n",
        "# Name of the label column.\n",
        "label = \"species\"\n",
        "\n",
        "classes = df[label].unique().tolist()\n",
        "print(f\"Label classes: {classes}\")\n",
        "\n",
        "df[label] = df[label].map(classes.index)"
      ]
    },
    {
      "cell_type": "markdown",
      "source": [
        "### Training vs Testing Data 🚂🆚🧪"
      ],
      "metadata": {
        "id": "sI0W6Dg0vBNh"
      }
    },
    {
      "cell_type": "markdown",
      "metadata": {
        "id": "vwJjLFhbtozI"
      },
      "source": [
        "In order to train a ML model we need data! However, **we don't want to give 100% of our data to the model to train and learn patterns on**, we hold out a \"testing data\" set that comes from the same data source so we can see how well the model performs, and only give the model 80% of the full data set to train on (or \"training data\").\n",
        "\n",
        "We need to use the same data source because we know what the correct answer might be, therefore we can calculate things like accuracy of how well the model predicted categories of data it has not been trained on!\n",
        "\n",
        "Typically, we can use the ratio of 80% of our data can be training data, and 20% of our data can be testing data, or data the model has NEVER seen before that we're going to evaluate how well the model performs on it. We want to be sure that the data is randomized as well, since we don't want, say, the last 20% of the rows to be Adelie Penguins and, if that is our test data, our training data would not include Adelie Penguins!\n",
        "\n",
        "<img src='https://drive.google.com/file/d/1ZK3t60NOPiHSNBeqcT6jauO0ycabkXTi/view?usp=sharing'>\n"
      ]
    },
    {
      "cell_type": "code",
      "execution_count": null,
      "metadata": {
        "id": "u7DEIxn2oB3U"
      },
      "outputs": [],
      "source": [
        "# Split the dataset into a training and a testing dataset.\n",
        "\n",
        "def split_dataset(dataset, test_ratio=0.20):\n",
        "  \"\"\"Splits a panda dataframe in two.\"\"\"\n",
        "  test_indices = np.random.rand(len(dataset)) < test_ratio\n",
        "  return dataset[~test_indices], dataset[test_indices]\n",
        "\n",
        "\n",
        "train_ds_pd, test_ds_pd = split_dataset(df)\n",
        "print(\"{} examples in training, {} examples for testing.\".format(\n",
        "    len(train_ds_pd), len(test_ds_pd)))"
      ]
    },
    {
      "cell_type": "markdown",
      "metadata": {
        "id": "uWq7uQcCuBzO"
      },
      "source": [
        "And finally, convert the pandas dataframe (`pd.Dataframe`) into tensorflow datasets (`tf.data.Dataset`):"
      ]
    },
    {
      "cell_type": "code",
      "execution_count": null,
      "metadata": {
        "id": "qtXgUBKluTX0"
      },
      "outputs": [],
      "source": [
        "train_ds = tfdf.keras.pd_dataframe_to_tf_dataset(train_ds_pd, label=label)\n",
        "test_ds = tfdf.keras.pd_dataframe_to_tf_dataset(test_ds_pd, label=label)"
      ]
    },
    {
      "cell_type": "markdown",
      "metadata": {
        "id": "BRKLWIWNuOZ1"
      },
      "source": [
        "**Notes:** Recall that `pd_dataframe_to_tf_dataset` converts string labels to integers if necessary.\n",
        "\n",
        "If you want to create the `tf.data.Dataset` yourself, there are a couple of things to remember:\n",
        "\n",
        "- The learning algorithms work with a one-epoch dataset and without shuffling.\n",
        "- The batch size does not impact the training algorithm, but a small value might slow down reading the dataset.\n"
      ]
    },
    {
      "cell_type": "markdown",
      "metadata": {
        "id": "mYAoyfYtqHG4"
      },
      "source": [
        "## STEP 3: Train the model 🏋🏻‍♀️💪🤖"
      ]
    },
    {
      "cell_type": "markdown",
      "source": [
        "When we say \"train the model\" it isn't really like we're writing the code ourselves to get the math equation. TensorFlow, Keras, and other libraries make it REALLY EASY to \"train models\" because they have functions already written to help us easily find those patterns and get the models! Let's run the one below to make a RandomForest!"
      ],
      "metadata": {
        "id": "aIMkfAT6e6R_"
      }
    },
    {
      "cell_type": "code",
      "execution_count": null,
      "metadata": {
        "id": "xete-FbuqJCV"
      },
      "outputs": [],
      "source": [
        "# Specify the model.\n",
        "# verbose is just an argument about how long you want the output to be!\n",
        "# random_seed allows your results to be reproducible\n",
        "model_1 = tfdf.keras.RandomForestModel(verbose=1, random_seed=42)\n",
        "\n",
        "# Train the model.\n",
        "model_1.fit(x=train_ds)"
      ]
    },
    {
      "cell_type": "markdown",
      "metadata": {
        "id": "OBnjxdip-MC0"
      },
      "source": [
        "Remarks\n",
        "\n",
        "-   No input features are specified. Therefore, all the columns will be used as\n",
        "    input features except for the label. The feature used by the model are shown\n",
        "    in the training logs and in the `model.summary()`.\n",
        "-   DFs consume natively numerical, categorical, categorical-set features and\n",
        "    missing-values. Numerical features do not need to be normalized. Categorical\n",
        "    string values do not need to be encoded in a dictionary.\n",
        "-   No training hyper-parameters are specified. Therefore the default\n",
        "    hyper-parameters will be used. Default hyper-parameters provide\n",
        "    reasonable results in most situations.\n",
        "-   Calling `compile` on the model before the `fit` is optional. Compile can be\n",
        "    used to provide extra evaluation metrics.\n",
        "-   Training algorithms do not need validation datasets. If a validation dataset\n",
        "    is provided, it will only be used to show metrics.\n",
        "-   Tweak the `verbose` argument to `RandomForestModel` to control the amount of\n",
        "    displayed training logs. Set `verbose=0` to hide most of the logs. Set\n",
        "    `verbose=2` to show all the logs.\n",
        "\n",
        "**Note:** A *Categorical-Set* feature is composed of a set of categorical values (while a *Categorical* is only one value). More details and examples are given later."
      ]
    },
    {
      "cell_type": "markdown",
      "source": [
        "## STEP 4: Evaluate your model 🕵🏾‍♀️🐧❓📈\n"
      ],
      "metadata": {
        "id": "6j5ZPKA2Rvlr"
      }
    },
    {
      "cell_type": "markdown",
      "metadata": {
        "id": "tSdtNJUArBpl"
      },
      "source": [
        "### Evaluate the model with the Testing Data 🆕🐧\n",
        "\n",
        "We are now ready to see how this model performs! We call this evaluating the model. Every type of model has a [different way it can be evaluated](https://keras.io/api/metrics/), but this Decision Forest can be evaluated by this [sample code from the tutorial](https://www.tensorflow.org/decision_forests/tutorials/beginner_colab) :)\n",
        "\n",
        "Let's evaluate our model on the Testing Data (the 30% we DID NOT train the model on)"
      ]
    },
    {
      "cell_type": "code",
      "execution_count": null,
      "metadata": {
        "id": "xUy4ULEMtDXB"
      },
      "outputs": [],
      "source": [
        "model_1.compile(metrics=[\"accuracy\"])\n",
        "evaluation = model_1.evaluate(test_ds, return_dict=True)\n",
        "print()\n",
        "\n",
        "for name, value in evaluation.items():\n",
        "  print(f\"{name}: {value:.4f}\")"
      ]
    },
    {
      "cell_type": "markdown",
      "metadata": {
        "id": "6-8R02_SXpbq"
      },
      "source": [
        "### Plot the model 📊📈👀\n",
        "\n",
        "Plotting a decision tree and following the first branches helps learning about decision forests. In some cases, plotting a model can even be used for debugging.\n",
        "\n",
        "Because of the difference in the way they are trained, some models are more interesting to plan than others. Because of the noise injected during training and the depth of the trees, plotting Random Forest is less informative than plotting a CART or the first tree of a Gradient Boosted Tree.\n",
        "\n",
        "Never the less, let's plot the first tree of our Random Forest model:"
      ]
    },
    {
      "cell_type": "code",
      "source": [
        "#remember, these are the the three \"classes\" of our Penguins!\n",
        "print(f\"Label classes: {classes}\")"
      ],
      "metadata": {
        "id": "EV0ZS1AM-c5m"
      },
      "execution_count": null,
      "outputs": []
    },
    {
      "cell_type": "code",
      "execution_count": null,
      "metadata": {
        "id": "KUIxf8N6Yjl0"
      },
      "outputs": [],
      "source": [
        "tfdf.model_plotter.plot_model_in_colab(model_1, tree_idx=200, max_depth=5)"
      ]
    },
    {
      "cell_type": "markdown",
      "metadata": {
        "id": "cPcL_hDnY7Zy"
      },
      "source": [
        "The root node on the left contains the first condition, number of examples and label distribution (the red-blue-green bar).\n",
        "\n",
        "Examples that evaluates true to the first condition are branched to the green path. The other ones are branched to the red path.\n",
        "\n",
        "The deeper the node, the more `pure` they become i.e. the label distribution is biased toward a subset of classes.\n",
        "\n",
        "**Note:** Hover the mouse on top of the plot for details."
      ]
    },
    {
      "cell_type": "markdown",
      "metadata": {
        "id": "vBSz-jE0Qss_"
      },
      "source": [
        "### Plotting the training logs 📉📈\n",
        "\n",
        "The training logs show the quality of the model (e.g. accuracy evaluated on the out-of-bag or validation dataset) according to the number of trees in the model. These logs are helpful to study the balance between model size and model quality.\n",
        "\n",
        "The logs are available in multiple ways:\n",
        "\n",
        "1. Displayed in during training if `fit()` is wrapped in `with sys_pipes():`.\n",
        "1. At the end of the model summary i.e. `model.summary()`.\n",
        "1. Programmatically, using the model inspector i.e. `model.make_inspector().training_logs()`.\n",
        "1. Via TensorBoard.\n",
        "\n",
        "Let's plot it using the `matplotlib` library!"
      ]
    },
    {
      "cell_type": "code",
      "source": [
        "import matplotlib.pyplot as plt\n",
        "\n",
        "logs = model_1.make_inspector().training_logs()\n",
        "\n",
        "plt.figure(figsize=(12, 4))\n",
        "\n",
        "plt.subplot(1, 2, 1)\n",
        "plt.plot([log.num_trees for log in logs], [log.evaluation.accuracy for log in logs])\n",
        "plt.xlabel(\"Number of trees\")\n",
        "plt.ylabel(\"Accuracy (out-of-bag)\")\n",
        "\n",
        "plt.subplot(1, 2, 2)\n",
        "plt.plot([log.num_trees for log in logs], [log.evaluation.loss for log in logs])\n",
        "plt.xlabel(\"Number of trees\")\n",
        "plt.ylabel(\"Logloss (out-of-bag)\")\n",
        "\n",
        "plt.show()"
      ],
      "metadata": {
        "id": "oWvQfZI-tEOB"
      },
      "execution_count": null,
      "outputs": []
    },
    {
      "cell_type": "markdown",
      "source": [
        "This dataset is small. You can see the model converging almost immediately."
      ],
      "metadata": {
        "id": "2FBYxGITfVnD"
      }
    },
    {
      "cell_type": "markdown",
      "metadata": {
        "id": "Dh54La5-HnTR"
      },
      "source": [
        "### Let's use TensorBoard! 🏄✨"
      ]
    },
    {
      "cell_type": "code",
      "execution_count": null,
      "metadata": {
        "id": "5R_m-JmvU9tu"
      },
      "outputs": [],
      "source": [
        "# This cell start TensorBoard that can be slow.\n",
        "# Load the TensorBoard notebook extension\n",
        "%load_ext tensorboard"
      ]
    },
    {
      "cell_type": "code",
      "execution_count": null,
      "metadata": {
        "id": "j6mp7K6HWwqQ"
      },
      "outputs": [],
      "source": [
        "# Clear existing results (if any)\n",
        "!rm -fr \"/tmp/tensorboard_logs\""
      ]
    },
    {
      "cell_type": "code",
      "execution_count": null,
      "metadata": {
        "id": "16NbLILYo124"
      },
      "outputs": [],
      "source": [
        "# Export the meta-data to tensorboard.\n",
        "model_1.make_inspector().export_to_tensorboard(\"/tmp/tensorboard_logs\")"
      ]
    },
    {
      "cell_type": "code",
      "execution_count": null,
      "metadata": {
        "id": "TSsN6aTXW0LJ"
      },
      "outputs": [],
      "source": [
        "# docs_infra: no_execute\n",
        "# Start a tensorboard instance.\n",
        "%tensorboard --logdir \"/tmp/tensorboard_logs\""
      ]
    },
    {
      "cell_type": "markdown",
      "source": [
        "## STEP 5: What's next? 🐧🐧🐧🏆✨"
      ],
      "metadata": {
        "id": "0SPj4p7nKMjh"
      }
    },
    {
      "cell_type": "markdown",
      "metadata": {
        "id": "phTUr6F1t-_E"
      },
      "source": [
        "### Re-train the model with a different learning algorithm\n",
        "\n",
        "The learning algorithm is defined by the model class. For\n",
        "example, `tfdf.keras.RandomForestModel()` trains a Random Forest, while\n",
        "`tfdf.keras.GradientBoostedTreesModel()` trains a Gradient Boosted Decision\n",
        "Trees model.\n",
        "\n",
        "The learning algorithms are listed by calling `tfdf.keras.get_all_models()` or in the\n",
        "[learner list](https://github.com/google/yggdrasil-decision-forests/blob/main/documentation/learners.md)."
      ]
    },
    {
      "cell_type": "code",
      "execution_count": null,
      "metadata": {
        "id": "OwEAAzUZq2m8"
      },
      "outputs": [],
      "source": [
        "tfdf.keras.get_all_models()"
      ]
    },
    {
      "cell_type": "markdown",
      "metadata": {
        "id": "xmzvuI78voD4"
      },
      "source": [
        "The description of the learning algorithms and their hyper-parameters are also available in the [API reference](https://www.tensorflow.org/decision_forests/api_docs/python/tfdf) and builtin help."
      ]
    },
    {
      "cell_type": "markdown",
      "metadata": {
        "id": "PuWEYvXaiwhk"
      },
      "source": [
        "### Using a subset of features\n",
        "\n",
        "The previous example did not specify the features, so all the columns were used\n",
        "as input feature (except for the label). The following example shows how to\n",
        "specify input features."
      ]
    },
    {
      "cell_type": "code",
      "execution_count": null,
      "metadata": {
        "id": "sgn_LnRz3M7z"
      },
      "outputs": [],
      "source": [
        "feature_1 = tfdf.keras.FeatureUsage(name=\"bill_length_mm\")\n",
        "feature_2 = tfdf.keras.FeatureUsage(name=\"island\")\n",
        "\n",
        "all_features = [feature_1, feature_2]\n",
        "\n",
        "# Note: This model is only trained with two features. It will not be as good as\n",
        "# the one trained on all features.\n",
        "\n",
        "model_2 = tfdf.keras.GradientBoostedTreesModel(\n",
        "    features=all_features, exclude_non_specified_features=True)\n",
        "\n",
        "model_2.compile(metrics=[\"accuracy\"])\n",
        "model_2.fit(x=train_ds, validation_data=test_ds)\n",
        "\n",
        "print(model_2.evaluate(test_ds, return_dict=True))"
      ]
    },
    {
      "cell_type": "markdown",
      "metadata": {
        "id": "zvM84cgCmbUR"
      },
      "source": [
        "**Note:** As expected, the accuracy is lower than previously."
      ]
    },
    {
      "cell_type": "markdown",
      "metadata": {
        "id": "MFmqpivc7x7p"
      },
      "source": [
        "**TF-DF** attaches a **semantics** to each feature. This semantics controls how\n",
        "the feature is used by the model. The following semantics are currently supported:\n",
        "\n",
        "-   **Numerical**: Generally for quantities or counts with full ordering. For\n",
        "    example, the age of a person, or the number of items in a bag. Can be a\n",
        "    float or an integer. Missing values are represented with float(Nan) or with\n",
        "    an empty sparse tensor.\n",
        "-   **Categorical**: Generally for a type/class in finite set of possible values\n",
        "    without ordering. For example, the color RED in the set {RED, BLUE, GREEN}.\n",
        "    Can be a string or an integer. Missing values are represented as \"\" (empty\n",
        "    sting), value -2 or with an empty sparse tensor.\n",
        "-   **Categorical-Set**: A set of categorical values. Great to represent\n",
        "    tokenized text. Can be a string or an integer in a sparse tensor or a\n",
        "    ragged tensor (recommended). The order/index of each item doesn't matter.\n",
        "\n",
        "If not specified, the semantics is inferred from the representation type and shown in the training logs:\n",
        "\n",
        "- int, float (dense or sparse) → Numerical semantics.\n",
        "- str (dense or sparse) → Categorical semantics\n",
        "- int, str (ragged) → Categorical-Set semantics\n",
        "\n",
        "In some cases, the inferred semantics is incorrect. For example: An Enum stored as an integer is semantically categorical, but it will be detected as numerical. In this case, you should specify the semantic argument in the input. The `education_num` field of the Adult dataset is classical example."
      ]
    },
    {
      "cell_type": "markdown",
      "source": [
        "## ..but wait there's more!!"
      ],
      "metadata": {
        "id": "xndI1D6DSeMI"
      }
    },
    {
      "cell_type": "markdown",
      "source": [
        "The fun doesn't have to stop here! There are a TON of free, online resources to help you learn ML and get started with Generative AI!\n",
        "\n",
        "🆓 Learning Resources:\n",
        "* [DeepLearning.ai](https://www.deeplearning.ai/short-courses/) series of 1-hour short courses to learn generative AI\n",
        "* [Introduction to Generative AI](https://www.cloudskillsboost.google/journeys/118) earn badges while following a learning path with videos & exercises\n",
        "* [ML Crash Course](https://developers.google.com/machine-learning/crash-course) Google's fast-paced, practical introduction to machine learning.\n",
        "* [fast.ai](https://www.fast.ai/) if you already have some coding background, this is a practical guide to dive into deep learning.\n",
        "* [Kaggle Competitions](https://www.kaggle.com/competitions), If you're ready to dive in and start coding, check out the \"competitions\" on Kaggle! It's a great way to apply what you've learned with a community of other learners.\n",
        "* [SimpleML in Google sheets](https://simplemlforsheets.com/tutorial.html) for a no-code way to get started with ML.\n",
        "* [Made with TFJS](https://goo.gle/made-with-tfjs) youtube series that highlight awesome projects made for the web!"
      ],
      "metadata": {
        "id": "3p0hdOTeW3DW"
      }
    },
    {
      "cell_type": "markdown",
      "source": [
        "### Thank you 💖✨✨\n",
        "\n",
        "Congratulations on starting your ML journey with TF! We're excited to have you here!\n",
        "\n",
        "Questions? Comments? Ideas? Inspirations?\n",
        "\n",
        "For the full notebook with all the comments\n",
        "https://github.com/ccstan99/introML"
      ],
      "metadata": {
        "id": "WucDOvysFWZv"
      }
    },
    {
      "cell_type": "code",
      "source": [],
      "metadata": {
        "id": "3GjFh9knWpzM"
      },
      "execution_count": null,
      "outputs": []
    }
  ]
}