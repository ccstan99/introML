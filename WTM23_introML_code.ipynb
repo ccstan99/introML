{
  "nbformat": 4,
  "nbformat_minor": 0,
  "metadata": {
    "colab": {
      "provenance": [],
      "private_outputs": true,
      "machine_shape": "hm",
      "gpuType": "A100"
    },
    "kernelspec": {
      "name": "python3",
      "display_name": "Python 3"
    },
    "language_info": {
      "name": "python"
    },
    "accelerator": "GPU"
  },
  "cells": [
    {
      "cell_type": "markdown",
      "metadata": {
        "id": "jK9tCTcwqq4k"
      },
      "source": [
        "<a href=\"https://colab.research.google.com/github/ccstan99/ccstan99.github.io/blob/main/docs/huggingface-text-classification.ipynb\" target=\"_parent\"><img src=\"https://colab.research.google.com/assets/colab-badge.svg\" alt=\"Open In Colab\"/></a>\n",
        "## STEP 1: Setup the environment 👩🏾‍💻✨"
      ]
    },
    {
      "cell_type": "markdown",
      "source": [
        "\n",
        "### Install TensorFlow Decision Forest library (TF-DF) 🌲🌲🌲📥"
      ],
      "metadata": {
        "id": "FseKEEsWQ-kz"
      }
    },
    {
      "cell_type": "code",
      "execution_count": null,
      "metadata": {
        "id": "Pa1Pf37RhEYN"
      },
      "outputs": [],
      "source": [
        "!pip install -q tensorflow_decision_forests"
      ]
    },
    {
      "cell_type": "markdown",
      "metadata": {
        "id": "3oinwbhXlggd"
      },
      "source": [
        "### Import libraries"
      ]
    },
    {
      "cell_type": "code",
      "execution_count": null,
      "metadata": {
        "id": "52W45tmDjD64"
      },
      "outputs": [],
      "source": [
        "import tensorflow_decision_forests as tfdf\n",
        "\n",
        "import os\n",
        "import numpy as np\n",
        "import pandas as pd\n",
        "import tensorflow as tf\n",
        "import math"
      ]
    },
    {
      "cell_type": "markdown",
      "metadata": {
        "id": "QGRtRECujKeu"
      },
      "source": [
        "## STEP 2: Get Data 🐧🐧🐧📊"
      ]
    },
    {
      "cell_type": "markdown",
      "metadata": {
        "id": "3qsSU1RfmNiP"
      },
      "source": [
        "### Load the dataset ...and convert it in a tf.Dataset!"
      ]
    },
    {
      "cell_type": "code",
      "execution_count": null,
      "metadata": {
        "id": "44Jq6g_mJFmj"
      },
      "outputs": [],
      "source": [
        "# Download the dataset\n",
        "!wget -q https://storage.googleapis.com/download.tensorflow.org/data/palmer_penguins/penguins.csv -O /tmp/penguins.csv\n",
        "\n",
        "# Load a dataset into a Pandas Dataframe.\n",
        "df = pd.read_csv(\"/tmp/penguins.csv\")\n",
        "\n",
        "# Display the first 5 examples.\n",
        "df.head()"
      ]
    },
    {
      "cell_type": "code",
      "source": [
        "#this returns the entireeeeee dataframe!\n",
        "df"
      ],
      "metadata": {
        "id": "HsJNMdquv8Sa"
      },
      "execution_count": null,
      "outputs": []
    },
    {
      "cell_type": "markdown",
      "source": [
        "### Explore your data 🧭✨🕵🏻‍♀️"
      ],
      "metadata": {
        "id": "9bAVt6duuxie"
      }
    },
    {
      "cell_type": "code",
      "execution_count": null,
      "metadata": {
        "id": "mOPD9sjqEmv9"
      },
      "outputs": [],
      "source": [
        "#Let's group the dataframe by the column \"species\" of penguins!\n",
        "# with the COUNT of how many unique values there are in each column\n",
        "#(i.e., 'Adelie Penguins...with a bill length recorded,' or 'Chinstrap penguins... with a body mass recorded')\n",
        "#(hint: they should all be the same unless we have null! Can you spot where they AREN'T the same?)\n",
        "df.groupby(['species']).count()"
      ]
    },
    {
      "cell_type": "code",
      "execution_count": null,
      "metadata": {
        "id": "ssK9hW8-Jvsn"
      },
      "outputs": [],
      "source": [
        "#here's another way to do groupby the mean number - but some of our columns are missing!\n",
        "# we are missing columns like \"island\" because they are not numeric - they are strings (aka words)\n",
        "df.groupby(['species']).mean()"
      ]
    },
    {
      "cell_type": "code",
      "execution_count": null,
      "metadata": {
        "id": "_ET2hQQi-Udz"
      },
      "outputs": [],
      "source": [
        "#Sometimes it's hard to just read a table, let's look at a graph of the average values...\n",
        "df.groupby('species').mean().plot(kind='bar')"
      ]
    },
    {
      "cell_type": "code",
      "execution_count": null,
      "metadata": {
        "id": "IGTorGX5HIOn"
      },
      "outputs": [],
      "source": [
        "# let's look at the FIRST row (row 0) of the data frame - what is in that row?\n",
        "df.iloc[0]\n",
        "#this output reads:\n",
        "#Colname        Value"
      ]
    },
    {
      "cell_type": "code",
      "execution_count": null,
      "metadata": {
        "id": "PcoG8EN4FD35"
      },
      "outputs": [],
      "source": [
        "#Let's look at all of the different variables\n",
        "#this will let us know if there are any NaN (null/missing) values!\n",
        "df.info()"
      ]
    },
    {
      "cell_type": "markdown",
      "source": [
        "### Data cleaning 🧹✨"
      ],
      "metadata": {
        "id": "dT8pIjsKvdC1"
      }
    },
    {
      "cell_type": "code",
      "source": [
        "df_clean = df.dropna()"
      ],
      "metadata": {
        "id": "M3pc7RRGEr7A"
      },
      "execution_count": null,
      "outputs": []
    },
    {
      "cell_type": "code",
      "source": [
        "df_clean = df_clean.drop(columns=['year'])"
      ],
      "metadata": {
        "id": "6u_2FlFmE3Sm"
      },
      "execution_count": null,
      "outputs": []
    },
    {
      "cell_type": "code",
      "source": [
        "df_clean.head()"
      ],
      "metadata": {
        "id": "pNWbJYSyFN0H"
      },
      "execution_count": null,
      "outputs": []
    },
    {
      "cell_type": "code",
      "source": [
        "df_clean.info()"
      ],
      "metadata": {
        "id": "DVN1IzfNCoDX"
      },
      "execution_count": null,
      "outputs": []
    },
    {
      "cell_type": "code",
      "source": [
        "# since we only lost 11 \"null\" rows, let's make our df_clean be our main df!\n",
        "df = df_clean"
      ],
      "metadata": {
        "id": "yZSR5eGrCkgT"
      },
      "execution_count": null,
      "outputs": []
    },
    {
      "cell_type": "code",
      "execution_count": null,
      "metadata": {
        "id": "uO_jz2sj0IBZ"
      },
      "outputs": [],
      "source": [
        "# Encode the categorical labels as integers.\n",
        "\n",
        "# Details:\n",
        "# This stage is necessary if your classification label is represented as a\n",
        "# string since Keras expects integer classification labels.\n",
        "# When using `pd_dataframe_to_tf_dataset` (see below), this step can be skipped.\n",
        "\n",
        "# Name of the label column.\n",
        "label = \"species\"\n",
        "\n",
        "classes = df[label].unique().tolist()\n",
        "print(f\"Label classes: {classes}\")\n",
        "\n",
        "df[label] = df[label].map(classes.index)"
      ]
    },
    {
      "cell_type": "markdown",
      "source": [
        "### Training vs Testing Data 🚂🆚🧪"
      ],
      "metadata": {
        "id": "sI0W6Dg0vBNh"
      }
    },
    {
      "cell_type": "code",
      "execution_count": null,
      "metadata": {
        "id": "u7DEIxn2oB3U"
      },
      "outputs": [],
      "source": [
        "# Split the dataset into a training and a testing dataset.\n",
        "\n",
        "def split_dataset(dataset, test_ratio=0.30):\n",
        "  \"\"\"Splits a panda dataframe in two.\"\"\"\n",
        "  test_indices = np.random.rand(len(dataset)) < test_ratio\n",
        "  return dataset[~test_indices], dataset[test_indices]\n",
        "\n",
        "\n",
        "train_ds_pd, test_ds_pd = split_dataset(df)\n",
        "print(\"{} examples in training, {} examples for testing.\".format(\n",
        "    len(train_ds_pd), len(test_ds_pd)))"
      ]
    },
    {
      "cell_type": "code",
      "execution_count": null,
      "metadata": {
        "id": "qtXgUBKluTX0"
      },
      "outputs": [],
      "source": [
        "train_ds = tfdf.keras.pd_dataframe_to_tf_dataset(train_ds_pd, label=label)\n",
        "test_ds = tfdf.keras.pd_dataframe_to_tf_dataset(test_ds_pd, label=label)"
      ]
    },
    {
      "cell_type": "markdown",
      "metadata": {
        "id": "mYAoyfYtqHG4"
      },
      "source": [
        "## STEP 3: Train the model 🏋🏻‍♀️💪🤖"
      ]
    },
    {
      "cell_type": "code",
      "execution_count": null,
      "metadata": {
        "id": "xete-FbuqJCV"
      },
      "outputs": [],
      "source": [
        "# Specify the model.\n",
        "# verbose is just an argument about how long you want the output to be!\n",
        "# random_seed allows your results to be reproducible\n",
        "model_1 = tfdf.keras.RandomForestModel(verbose=1, random_seed=42)\n",
        "\n",
        "# Train the model.\n",
        "model_1.fit(x=train_ds)"
      ]
    },
    {
      "cell_type": "markdown",
      "source": [
        "## STEP 4: Evaluate your model 🕵🏾‍♀️🐧❓📈\n"
      ],
      "metadata": {
        "id": "6j5ZPKA2Rvlr"
      }
    },
    {
      "cell_type": "markdown",
      "metadata": {
        "id": "tSdtNJUArBpl"
      },
      "source": [
        "### Evaluate the model with the Testing Data 🆕🐧"
      ]
    },
    {
      "cell_type": "code",
      "execution_count": null,
      "metadata": {
        "id": "xUy4ULEMtDXB"
      },
      "outputs": [],
      "source": [
        "model_1.compile(metrics=[\"accuracy\"])\n",
        "evaluation = model_1.evaluate(test_ds, return_dict=True)\n",
        "print()\n",
        "\n",
        "for name, value in evaluation.items():\n",
        "  print(f\"{name}: {value:.4f}\")"
      ]
    },
    {
      "cell_type": "markdown",
      "metadata": {
        "id": "6-8R02_SXpbq"
      },
      "source": [
        "### Plot the model 📊📈👀"
      ]
    },
    {
      "cell_type": "code",
      "source": [
        "#remember, these are the the three \"classes\" of our Penguins!\n",
        "print(f\"Label classes: {classes}\")"
      ],
      "metadata": {
        "id": "EV0ZS1AM-c5m"
      },
      "execution_count": null,
      "outputs": []
    },
    {
      "cell_type": "code",
      "execution_count": null,
      "metadata": {
        "id": "KUIxf8N6Yjl0"
      },
      "outputs": [],
      "source": [
        "tfdf.model_plotter.plot_model_in_colab(model_1, tree_idx=200, max_depth=5)"
      ]
    },
    {
      "cell_type": "markdown",
      "metadata": {
        "id": "vBSz-jE0Qss_"
      },
      "source": [
        "### Plotting the training logs 📉📈"
      ]
    },
    {
      "cell_type": "code",
      "source": [
        "import matplotlib.pyplot as plt\n",
        "\n",
        "logs = model_1.make_inspector().training_logs()\n",
        "\n",
        "plt.figure(figsize=(12, 4))\n",
        "\n",
        "plt.subplot(1, 2, 1)\n",
        "plt.plot([log.num_trees for log in logs], [log.evaluation.accuracy for log in logs])\n",
        "plt.xlabel(\"Number of trees\")\n",
        "plt.ylabel(\"Accuracy (out-of-bag)\")\n",
        "\n",
        "plt.subplot(1, 2, 2)\n",
        "plt.plot([log.num_trees for log in logs], [log.evaluation.loss for log in logs])\n",
        "plt.xlabel(\"Number of trees\")\n",
        "plt.ylabel(\"Logloss (out-of-bag)\")\n",
        "\n",
        "plt.show()"
      ],
      "metadata": {
        "id": "oWvQfZI-tEOB"
      },
      "execution_count": null,
      "outputs": []
    },
    {
      "cell_type": "markdown",
      "metadata": {
        "id": "Dh54La5-HnTR"
      },
      "source": [
        "### Let's use TensorBoard! 🏄✨"
      ]
    },
    {
      "cell_type": "code",
      "execution_count": null,
      "metadata": {
        "id": "5R_m-JmvU9tu"
      },
      "outputs": [],
      "source": [
        "# This cell start TensorBoard that can be slow.\n",
        "# Load the TensorBoard notebook extension\n",
        "%load_ext tensorboard"
      ]
    },
    {
      "cell_type": "code",
      "execution_count": null,
      "metadata": {
        "id": "j6mp7K6HWwqQ"
      },
      "outputs": [],
      "source": [
        "# Clear existing results (if any)\n",
        "!rm -fr \"/tmp/tensorboard_logs\""
      ]
    },
    {
      "cell_type": "code",
      "execution_count": null,
      "metadata": {
        "id": "16NbLILYo124"
      },
      "outputs": [],
      "source": [
        "# Export the meta-data to tensorboard.\n",
        "model_1.make_inspector().export_to_tensorboard(\"/tmp/tensorboard_logs\")"
      ]
    },
    {
      "cell_type": "code",
      "execution_count": null,
      "metadata": {
        "id": "TSsN6aTXW0LJ"
      },
      "outputs": [],
      "source": [
        "# docs_infra: no_execute\n",
        "# Start a tensorboard instance.\n",
        "%tensorboard --logdir \"/tmp/tensorboard_logs\""
      ]
    },
    {
      "cell_type": "markdown",
      "source": [
        "## STEP 5: What's next? 🐧🐧🐧🏆✨"
      ],
      "metadata": {
        "id": "0SPj4p7nKMjh"
      }
    },
    {
      "cell_type": "markdown",
      "metadata": {
        "id": "phTUr6F1t-_E"
      },
      "source": [
        "### Re-train the model with a different learning algorithm"
      ]
    },
    {
      "cell_type": "code",
      "execution_count": null,
      "metadata": {
        "id": "OwEAAzUZq2m8"
      },
      "outputs": [],
      "source": [
        "tfdf.keras.get_all_models()"
      ]
    },
    {
      "cell_type": "markdown",
      "metadata": {
        "id": "PuWEYvXaiwhk"
      },
      "source": [
        "### Using a subset of features"
      ]
    },
    {
      "cell_type": "code",
      "execution_count": null,
      "metadata": {
        "id": "sgn_LnRz3M7z"
      },
      "outputs": [],
      "source": [
        "feature_1 = tfdf.keras.FeatureUsage(name=\"bill_length_mm\")\n",
        "feature_2 = tfdf.keras.FeatureUsage(name=\"island\")\n",
        "\n",
        "all_features = [feature_1, feature_2]\n",
        "\n",
        "# Note: This model is only trained with two features. It will not be as good as\n",
        "# the one trained on all features.\n",
        "\n",
        "model_2 = tfdf.keras.GradientBoostedTreesModel(\n",
        "    features=all_features, exclude_non_specified_features=True)\n",
        "\n",
        "model_2.compile(metrics=[\"accuracy\"])\n",
        "model_2.fit(x=train_ds, validation_data=test_ds)\n",
        "\n",
        "print(model_2.evaluate(test_ds, return_dict=True))"
      ]
    },
    {
      "cell_type": "markdown",
      "source": [
        "## ..but wait there's more!!"
      ],
      "metadata": {
        "id": "xndI1D6DSeMI"
      }
    },
    {
      "cell_type": "markdown",
      "source": [
        "The fun doesn't have to stop here! There are a TON of free, online resources to help you learn ML and get started with Generative AI!\n",
        "\n",
        "🆓 Learning Resources:\n",
        "* [DeepLearning.ai](https://www.deeplearning.ai/short-courses/) series of 1-hour short courses to learn generative AI\n",
        "* [Introduction to Generative AI](https://www.cloudskillsboost.google/journeys/118) earn badges while following a learning path with videos & exercises\n",
        "* [ML Crash Course](https://developers.google.com/machine-learning/crash-course) Google's fast-paced, practical introduction to machine learning.\n",
        "* [fast.ai](https://www.fast.ai/) if you already have some coding background, this is a practical guide to dive into deep learning.\n",
        "* [Kaggle Competitions](https://www.kaggle.com/competitions), If you're ready to dive in and start coding, check out the \"competitions\" on Kaggle! It's a great way to apply what you've learned with a community of other learners.\n",
        "* [SimpleML in Google sheets](https://simplemlforsheets.com/tutorial.html) for a no-code way to get started with ML.\n",
        "* [Made with TFJS](https://goo.gle/made-with-tfjs) youtube series that highlight awesome projects made for the web!"
      ],
      "metadata": {
        "id": "3p0hdOTeW3DW"
      }
    },
    {
      "cell_type": "markdown",
      "source": [
        "### Thank you 💖✨✨\n",
        "\n",
        "Congratulations on starting your ML journey with TF! We're excited to have you here!\n",
        "\n",
        "Questions? Comments? Ideas? Inspirations?\n",
        "\n",
        "For the full notebook with all the comments\n",
        "https://github.com/ccstan99/introML"
      ],
      "metadata": {
        "id": "WucDOvysFWZv"
      }
    },
    {
      "cell_type": "code",
      "source": [],
      "metadata": {
        "id": "3GjFh9knWpzM"
      },
      "execution_count": null,
      "outputs": []
    }
  ]
}